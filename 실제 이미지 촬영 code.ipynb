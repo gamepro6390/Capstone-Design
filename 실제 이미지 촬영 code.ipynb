{
 "cells": [
  {
   "cell_type": "code",
   "execution_count": 1,
   "id": "bea1f826",
   "metadata": {},
   "outputs": [
    {
     "name": "stdout",
     "output_type": "stream",
     "text": [
      "./validation/test/test0.jpg written!\n",
      "./validation/test/test1.jpg written!\n",
      "Closing\n"
     ]
    }
   ],
   "source": [
    "import cv2 as cv\n",
    "\n",
    "cam = cv.VideoCapture(0)\n",
    "\n",
    "cv.namedWindow(\"capture\")\n",
    "\n",
    "img_counter = 0\n",
    "\n",
    "while True:\n",
    "    ret, frame = cam.read()\n",
    "    cv.imshow(\"capture\", frame)\n",
    "    if not ret:\n",
    "        break\n",
    "    k = cv.waitKey(1)\n",
    "\n",
    "    if k%256 == 27:\n",
    "        # ESC pressed\n",
    "        print(\"Closing\")\n",
    "        break\n",
    "        \n",
    "    elif k%256 == 32:\n",
    "        # SPACE pressed\n",
    "        img_name = \"./validation/test/test{}.jpg\".format(img_counter)\n",
    "        cv.imwrite(img_name, frame)\n",
    "        print(\"{} written!\".format(img_name))\n",
    "        img_counter += 1\n",
    "\n",
    "cam.release()\n",
    "cv.destroyAllWindows()"
   ]
  }
 ],
 "metadata": {
  "kernelspec": {
   "display_name": "Python 3 (ipykernel)",
   "language": "python",
   "name": "python3"
  },
  "language_info": {
   "codemirror_mode": {
    "name": "ipython",
    "version": 3
   },
   "file_extension": ".py",
   "mimetype": "text/x-python",
   "name": "python",
   "nbconvert_exporter": "python",
   "pygments_lexer": "ipython3",
   "version": "3.9.13"
  }
 },
 "nbformat": 4,
 "nbformat_minor": 5
}
